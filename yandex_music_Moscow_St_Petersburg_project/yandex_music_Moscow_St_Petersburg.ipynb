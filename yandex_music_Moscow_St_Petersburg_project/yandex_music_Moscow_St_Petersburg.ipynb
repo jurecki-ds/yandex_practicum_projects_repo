{
 "cells": [
  {
   "cell_type": "markdown",
   "metadata": {
    "id": "E0vqbgi9ay0H"
   },
   "source": [
    "# Yandex Music (big cities music)\n",
    "**(comparing of users Moscow and St. Petersburg musical preferences)**"
   ]
  },
  {
   "cell_type": "markdown",
   "metadata": {
    "id": "VUC88oWjTJw2"
   },
   "source": [
    "**Problem statement**\n",
    "\n",
    "We need to compare the behavior (musical preferences) of the two capitals users based on the data of Yandex Music.\n",
    "\n",
    "**The purpose of the research** - to test three hypotheses:\n",
    "1. The activity of users depends on the day of the week. And in Moscow and St. Petersburg it manifests itself differently.\n",
    "2. Monday morning in Moscow some genres prevail, and in Petersburg - others. Also on Friday evening, different genres prevail - depending on the city.\n",
    "3. Moscow and St. Petersburg prefer different genres of music. In Moscow, they listen to pop music more often, in St. Petersburg - Russian rap.\n",
    "\n",
    "**Research progress**\n",
    "\n",
    "Data on user behavior will be obtained from the `yandex_music_project.csv` file. Nothing is known about the data quality. Therefore, before testing hypotheses, a review of the data is required.\n",
    "\n",
    "We'll check the data for errors and evaluate their impact on the research. Then, at the preprocessing stage, we'll find an opportunity to correct the most critical data errors.\n",
    " \n",
    "Thus, the research will take place in three stages:\n",
    "1. Data review.\n",
    "2. Data preprocessing.\n",
    "3. Hypothesis testing."
   ]
  },
  {
   "cell_type": "markdown",
   "metadata": {
    "id": "Ml1hmfXC_Zcs"
   },
   "source": [
    "## Data review\n",
    "\n",
    "Let's make the first idea about Yandex Music data."
   ]
  },
  {
   "cell_type": "markdown",
   "metadata": {
    "id": "57eAOGIz_Zcs",
    "tags": [
     "start_task"
    ]
   },
   "source": [
    "**Import required libraries**\n",
    "\n",
    "Import `pandas` library to work with data tables (dataframes)."
   ]
  },
  {
   "cell_type": "code",
   "execution_count": 1,
   "metadata": {
    "deletable": false,
    "id": "AXN7PHPN_Zcs"
   },
   "outputs": [],
   "source": [
    "# pandas library import\n",
    "import pandas as pd"
   ]
  },
  {
   "cell_type": "markdown",
   "metadata": {
    "id": "SG23P8tt_Zcs",
    "tags": [
     "start_task"
    ]
   },
   "source": [
    "**Reading a file (dataset) with data**\n",
    "\n",
    "Read the `yandex_music_project.csv` file from the `\\datasets` folder and save it in the `df` variable:"
   ]
  },
  {
   "cell_type": "code",
   "execution_count": 2,
   "metadata": {
    "deletable": false,
    "id": "fFVu7vqh_Zct"
   },
   "outputs": [],
   "source": [
    "# reading data file and saving to df\n",
    "df = pd.read_csv('datasets\\yandex_music_project.csv')"
   ]
  },
  {
   "cell_type": "markdown",
   "metadata": {
    "id": "rDoOMd3uTqnZ",
    "tags": [
     "start_task"
    ]
   },
   "source": [
    "**Displaying a table fragment for preliminary analysis**\n",
    "\n",
    "Let's display the first ten rows of the table:"
   ]
  },
  {
   "cell_type": "code",
   "execution_count": 3,
   "metadata": {
    "deletable": false,
    "id": "oWTVX3gW_Zct"
   },
   "outputs": [
    {
     "data": {
      "text/html": [
       "<div>\n",
       "<style scoped>\n",
       "    .dataframe tbody tr th:only-of-type {\n",
       "        vertical-align: middle;\n",
       "    }\n",
       "\n",
       "    .dataframe tbody tr th {\n",
       "        vertical-align: top;\n",
       "    }\n",
       "\n",
       "    .dataframe thead th {\n",
       "        text-align: right;\n",
       "    }\n",
       "</style>\n",
       "<table border=\"1\" class=\"dataframe\">\n",
       "  <thead>\n",
       "    <tr style=\"text-align: right;\">\n",
       "      <th></th>\n",
       "      <th>userID</th>\n",
       "      <th>Track</th>\n",
       "      <th>artist</th>\n",
       "      <th>genre</th>\n",
       "      <th>City</th>\n",
       "      <th>time</th>\n",
       "      <th>Day</th>\n",
       "    </tr>\n",
       "  </thead>\n",
       "  <tbody>\n",
       "    <tr>\n",
       "      <th>0</th>\n",
       "      <td>FFB692EC</td>\n",
       "      <td>Kamigata To Boots</td>\n",
       "      <td>The Mass Missile</td>\n",
       "      <td>rock</td>\n",
       "      <td>Saint-Petersburg</td>\n",
       "      <td>20:28:33</td>\n",
       "      <td>Wednesday</td>\n",
       "    </tr>\n",
       "    <tr>\n",
       "      <th>1</th>\n",
       "      <td>55204538</td>\n",
       "      <td>Delayed Because of Accident</td>\n",
       "      <td>Andreas Rönnberg</td>\n",
       "      <td>rock</td>\n",
       "      <td>Moscow</td>\n",
       "      <td>14:07:09</td>\n",
       "      <td>Friday</td>\n",
       "    </tr>\n",
       "    <tr>\n",
       "      <th>2</th>\n",
       "      <td>20EC38</td>\n",
       "      <td>Funiculì funiculà</td>\n",
       "      <td>Mario Lanza</td>\n",
       "      <td>pop</td>\n",
       "      <td>Saint-Petersburg</td>\n",
       "      <td>20:58:07</td>\n",
       "      <td>Wednesday</td>\n",
       "    </tr>\n",
       "    <tr>\n",
       "      <th>3</th>\n",
       "      <td>A3DD03C9</td>\n",
       "      <td>Dragons in the Sunset</td>\n",
       "      <td>Fire + Ice</td>\n",
       "      <td>folk</td>\n",
       "      <td>Saint-Petersburg</td>\n",
       "      <td>08:37:09</td>\n",
       "      <td>Monday</td>\n",
       "    </tr>\n",
       "    <tr>\n",
       "      <th>4</th>\n",
       "      <td>E2DC1FAE</td>\n",
       "      <td>Soul People</td>\n",
       "      <td>Space Echo</td>\n",
       "      <td>dance</td>\n",
       "      <td>Moscow</td>\n",
       "      <td>08:34:34</td>\n",
       "      <td>Monday</td>\n",
       "    </tr>\n",
       "    <tr>\n",
       "      <th>5</th>\n",
       "      <td>842029A1</td>\n",
       "      <td>Преданная</td>\n",
       "      <td>IMPERVTOR</td>\n",
       "      <td>rusrap</td>\n",
       "      <td>Saint-Petersburg</td>\n",
       "      <td>13:09:41</td>\n",
       "      <td>Friday</td>\n",
       "    </tr>\n",
       "    <tr>\n",
       "      <th>6</th>\n",
       "      <td>4CB90AA5</td>\n",
       "      <td>True</td>\n",
       "      <td>Roman Messer</td>\n",
       "      <td>dance</td>\n",
       "      <td>Moscow</td>\n",
       "      <td>13:00:07</td>\n",
       "      <td>Wednesday</td>\n",
       "    </tr>\n",
       "    <tr>\n",
       "      <th>7</th>\n",
       "      <td>F03E1C1F</td>\n",
       "      <td>Feeling This Way</td>\n",
       "      <td>Polina Griffith</td>\n",
       "      <td>dance</td>\n",
       "      <td>Moscow</td>\n",
       "      <td>20:47:49</td>\n",
       "      <td>Wednesday</td>\n",
       "    </tr>\n",
       "    <tr>\n",
       "      <th>8</th>\n",
       "      <td>8FA1D3BE</td>\n",
       "      <td>И вновь продолжается бой</td>\n",
       "      <td>NaN</td>\n",
       "      <td>ruspop</td>\n",
       "      <td>Moscow</td>\n",
       "      <td>09:17:40</td>\n",
       "      <td>Friday</td>\n",
       "    </tr>\n",
       "    <tr>\n",
       "      <th>9</th>\n",
       "      <td>E772D5C0</td>\n",
       "      <td>Pessimist</td>\n",
       "      <td>NaN</td>\n",
       "      <td>dance</td>\n",
       "      <td>Saint-Petersburg</td>\n",
       "      <td>21:20:49</td>\n",
       "      <td>Wednesday</td>\n",
       "    </tr>\n",
       "  </tbody>\n",
       "</table>\n",
       "</div>"
      ],
      "text/plain": [
       "     userID                        Track            artist   genre  \\\n",
       "0  FFB692EC            Kamigata To Boots  The Mass Missile    rock   \n",
       "1  55204538  Delayed Because of Accident  Andreas Rönnberg    rock   \n",
       "2    20EC38            Funiculì funiculà       Mario Lanza     pop   \n",
       "3  A3DD03C9        Dragons in the Sunset        Fire + Ice    folk   \n",
       "4  E2DC1FAE                  Soul People        Space Echo   dance   \n",
       "5  842029A1                    Преданная         IMPERVTOR  rusrap   \n",
       "6  4CB90AA5                         True      Roman Messer   dance   \n",
       "7  F03E1C1F             Feeling This Way   Polina Griffith   dance   \n",
       "8  8FA1D3BE     И вновь продолжается бой               NaN  ruspop   \n",
       "9  E772D5C0                    Pessimist               NaN   dance   \n",
       "\n",
       "             City        time        Day  \n",
       "0  Saint-Petersburg  20:28:33  Wednesday  \n",
       "1            Moscow  14:07:09     Friday  \n",
       "2  Saint-Petersburg  20:58:07  Wednesday  \n",
       "3  Saint-Petersburg  08:37:09     Monday  \n",
       "4            Moscow  08:34:34     Monday  \n",
       "5  Saint-Petersburg  13:09:41     Friday  \n",
       "6            Moscow  13:00:07  Wednesday  \n",
       "7            Moscow  20:47:49  Wednesday  \n",
       "8            Moscow  09:17:40     Friday  \n",
       "9  Saint-Petersburg  21:20:49  Wednesday  "
      ]
     },
     "execution_count": 3,
     "metadata": {},
     "output_type": "execute_result"
    }
   ],
   "source": [
    "# получение первых 10 строк таблицы df\n",
    "df.head(10)"
   ]
  },
  {
   "cell_type": "markdown",
   "metadata": {
    "id": "EO73Kwic_Zct",
    "tags": [
     "start_task"
    ]
   },
   "source": [
    "**General information about the table and its contents**\n",
    "\n",
    "\n",
    "Get general information about the `df` table:"
   ]
  },
  {
   "cell_type": "code",
   "execution_count": 4,
   "metadata": {
    "deletable": false,
    "id": "DSf2kIb-_Zct"
   },
   "outputs": [
    {
     "name": "stdout",
     "output_type": "stream",
     "text": [
      "<class 'pandas.core.frame.DataFrame'>\n",
      "RangeIndex: 65079 entries, 0 to 65078\n",
      "Data columns (total 7 columns):\n",
      " #   Column    Non-Null Count  Dtype \n",
      "---  ------    --------------  ----- \n",
      " 0     userID  65079 non-null  object\n",
      " 1   Track     63848 non-null  object\n",
      " 2   artist    57876 non-null  object\n",
      " 3   genre     63881 non-null  object\n",
      " 4     City    65079 non-null  object\n",
      " 5   time      65079 non-null  object\n",
      " 6   Day       65079 non-null  object\n",
      "dtypes: object(7)\n",
      "memory usage: 3.5+ MB\n"
     ]
    }
   ],
   "source": [
    "# getting general information about the df table data\n",
    "df.info()"
   ]
  },
  {
   "cell_type": "markdown",
   "metadata": {
    "id": "TaQ2Iwbr_Zct"
   },
   "source": [
    "The `df` dataframe has seven columns. The data type in all columns is `object`.\n",
    "\n",
    "According to the data documentation:\n",
    "* `  userID` - user ID;\n",
    "* `Track` — track name;\n",
    "* `artist` — artist name;\n",
    "* `genre` — genre name;\n",
    "* `  City  ` - user's city;\n",
    "* `time` - start time of listening;\n",
    "* `Day` is the day of the week.\n",
    "\n",
    "The number of values in the columns varies. This means there are missing values in the data."
   ]
  },
  {
   "cell_type": "markdown",
   "metadata": {
    "id": "rAfziTBDmf2h",
    "tags": [
     "start_task"
    ]
   },
   "source": [
    "**Table column names style violations**\n",
    "\n",
    "The following style violations appear in the column names of the `df` table:\n",
    "* Lowercase letters are combined with uppercase.\n",
    "* There are spaces.\n",
    "* Missing underscore `_` to write names in \"snake_case\".\n",
    "* Instead of transliteration, a literal translation of names is used (it is not a violation of style, but we note it as a feature)."
   ]
  },
  {
   "cell_type": "markdown",
   "metadata": {
    "id": "MCB6-dXG_Zct"
   },
   "source": [
    "**Conclusions**\n",
    "\n",
    "Each line of the table contains data about the listened track. Some of the columns describe the composition itself: title, artist and genre. The rest of the data tells us about the user: what city he is from, when he listened to music.\n",
    "\n",
    "Preliminarily, it can be argued that the data are sufficient to test the hypotheses. But there are missing values in the data, and discrepancies with good style in the columns names.\n",
    "\n",
    "To move forward, we need to fix problems in the data."
   ]
  },
  {
   "cell_type": "markdown",
   "metadata": {
    "id": "SjYF6Ub9_Zct"
   },
   "source": [
    "## Data preprocessing\n",
    "\n",
    "Data preprocessing in this project can be done in three simple steps:\n",
    "- fix the style in the table columns headers;\n",
    "- eliminate missing values in the data;\n",
    "- check the data for duplicates."
   ]
  },
  {
   "cell_type": "markdown",
   "metadata": {
    "id": "dIaKXr29_Zct",
    "tags": [
     "start_task"
    ]
   },
   "source": [
    "### Heading style\n",
    "\n",
    "**Displaying the `df` table column names**\n",
    "\n",
    "Let's display the column names:"
   ]
  },
  {
   "cell_type": "code",
   "execution_count": 5,
   "metadata": {
    "deletable": false,
    "id": "oKOTdF_Q_Zct"
   },
   "outputs": [
    {
     "data": {
      "text/plain": [
       "Index(['  userID', 'Track', 'artist', 'genre', '  City  ', 'time', 'Day'], dtype='object')"
      ]
     },
     "execution_count": 5,
     "metadata": {},
     "output_type": "execute_result"
    }
   ],
   "source": [
    "# list of df table column names\n",
    "df.columns"
   ]
  },
  {
   "cell_type": "markdown",
   "metadata": {
    "id": "zj5534cv_Zct",
    "tags": [
     "start_task"
    ]
   },
   "source": [
    "**Correction of column names**\n",
    "\n",
    "\n",
    "Let's bring the names in line with good style:\n",
    "* write a few words in the title in the “snake_case”,\n",
    "* make all characters lowercase,\n",
    "* eliminate spaces.\n",
    "\n",
    "To do this, rename the columns like this:\n",
    "* `'  userID'` → `'user_id'`;\n",
    "* `'Track'` → `'track'`;\n",
    "* `'  City  '` → `'city'`;\n",
    "* `'Day'` → `'day'`."
   ]
  },
  {
   "cell_type": "code",
   "execution_count": 6,
   "metadata": {
    "deletable": false,
    "id": "ISlFqs5y_Zct"
   },
   "outputs": [],
   "source": [
    "# rename column names\n",
    "df.rename(columns={'  userID': 'user_id', 'Track': 'track', '  City  ': 'city', 'Day': 'day'}, inplace=True)"
   ]
  },
  {
   "cell_type": "markdown",
   "metadata": {
    "id": "1dqbh00J_Zct",
    "tags": [
     "start_task"
    ]
   },
   "source": [
    "**Test display of table `df` column names**\n",
    "\n",
    "\n",
    "Let's check the result. To do this, once again display the columns names:"
   ]
  },
  {
   "cell_type": "code",
   "execution_count": 7,
   "metadata": {
    "deletable": false,
    "id": "d4NOAmTW_Zct"
   },
   "outputs": [
    {
     "data": {
      "text/plain": [
       "Index(['user_id', 'track', 'artist', 'genre', 'city', 'time', 'day'], dtype='object')"
      ]
     },
     "execution_count": 7,
     "metadata": {},
     "output_type": "execute_result"
    }
   ],
   "source": [
    "# check results - list column names\n",
    "df.columns"
   ]
  },
  {
   "cell_type": "markdown",
   "metadata": {
    "id": "5ISfbcfY_Zct",
    "tags": [
     "start_task"
    ]
   },
   "source": [
    "### Missing values\n",
    "\n",
    "**Counting missing values in dataframe data**\n",
    "\n",
    "First, let's calculate how many missing values are in the table:"
   ]
  },
  {
   "cell_type": "code",
   "execution_count": 8,
   "metadata": {
    "deletable": false,
    "id": "RskX29qr_Zct"
   },
   "outputs": [
    {
     "data": {
      "text/plain": [
       "user_id       0\n",
       "track      1231\n",
       "artist     7203\n",
       "genre      1198\n",
       "city          0\n",
       "time          0\n",
       "day           0\n",
       "dtype: int64"
      ]
     },
     "execution_count": 8,
     "metadata": {},
     "output_type": "execute_result"
    }
   ],
   "source": [
    "# missing values count\n",
    "df.isna().sum()"
   ]
  },
  {
   "cell_type": "markdown",
   "metadata": {
    "id": "qubhgnlO_Zct"
   },
   "source": [
    "Not all missing values affect the research. So, in `track` and `artist`, gaps are not important for our work. It suffices to replace them with explicit notation.\n",
    "\n",
    "But missing values in `genre` can interfere with the comparison of musical tastes in Moscow and St. Petersburg. In practice, it would be correct to determine the cause of the gaps and restore the data. This option is not available in this research. So, we have to:\n",
    "* fill in these gaps with explicit designations;\n",
    "* estimate how much they will damage the calculations."
   ]
  },
  {
   "cell_type": "markdown",
   "metadata": {
    "id": "fSv2laPA_Zct",
    "tags": [
     "start_task"
    ]
   },
   "source": [
    "**Fill missing values in the table**\n",
    "\n",
    "Let's replace the missing values in the `track`, `artist` and `genre` columns with the string `'unknown'`. To do this, create a `columns_to_replace` list, iterate through its elements with a `for` loop, and for each column, replace the missing values:"
   ]
  },
  {
   "cell_type": "code",
   "execution_count": 9,
   "metadata": {
    "deletable": false,
    "id": "KplB5qWs_Zct"
   },
   "outputs": [],
   "source": [
    "# loop through column names and replace missing values with 'unknown'\n",
    "columns_to_replace = ['track', 'artist', 'genre']\n",
    "for column in columns_to_replace:\n",
    "    df[column] = df[column].fillna('unknown')    "
   ]
  },
  {
   "cell_type": "markdown",
   "metadata": {
    "id": "Ilsm-MZo_Zct",
    "tags": [
     "start_task"
    ]
   },
   "source": [
    "**Checking for missing values in a table**\n",
    "\n",
    "Make sure there are no gaps in the table. To do this, let's count the missing values again."
   ]
  },
  {
   "cell_type": "code",
   "execution_count": 10,
   "metadata": {
    "deletable": false,
    "id": "Tq4nYRX4_Zct"
   },
   "outputs": [
    {
     "data": {
      "text/plain": [
       "user_id    0\n",
       "track      0\n",
       "artist     0\n",
       "genre      0\n",
       "city       0\n",
       "time       0\n",
       "day        0\n",
       "dtype: int64"
      ]
     },
     "execution_count": 10,
     "metadata": {},
     "output_type": "execute_result"
    }
   ],
   "source": [
    "# counting missing values\n",
    "df.isna().sum()"
   ]
  },
  {
   "cell_type": "markdown",
   "metadata": {
    "id": "BWKRtBJ3_Zct",
    "tags": [
     "start_task"
    ]
   },
   "source": [
    "### Duplicates\n",
    "\n",
    "**Counting explicit duplicates in a table**\n",
    "\n",
    "Let's count explicit duplicates in the table:"
   ]
  },
  {
   "cell_type": "code",
   "execution_count": 11,
   "metadata": {
    "deletable": false,
    "id": "36eES_S0_Zct"
   },
   "outputs": [
    {
     "data": {
      "text/plain": [
       "3826"
      ]
     },
     "execution_count": 11,
     "metadata": {},
     "output_type": "execute_result"
    }
   ],
   "source": [
    "# counting explicit duplicates\n",
    "df.duplicated().sum()"
   ]
  },
  {
   "cell_type": "markdown",
   "metadata": {
    "id": "Ot25h6XR_Zct",
    "tags": [
     "start_task"
    ]
   },
   "source": [
    "**Remove explicit duplicates**\n",
    "\n",
    "Let's call a special `pandas` method to remove explicit duplicates:"
   ]
  },
  {
   "cell_type": "code",
   "execution_count": 12,
   "metadata": {
    "deletable": false,
    "id": "exFHq6tt_Zct"
   },
   "outputs": [],
   "source": [
    "# removing explicit duplicates\n",
    "df = df.drop_duplicates()"
   ]
  },
  {
   "cell_type": "markdown",
   "metadata": {
    "id": "Im2YwBEG_Zct",
    "tags": [
     "start_task"
    ]
   },
   "source": [
    "**Check count of explicit duplicates in a table**\n",
    "\n",
    "Once again, let's count the explicit duplicates in the table - make sure that we completely get rid of them:"
   ]
  },
  {
   "cell_type": "code",
   "execution_count": 13,
   "metadata": {
    "deletable": false,
    "id": "-8PuNWQ0_Zct"
   },
   "outputs": [
    {
     "data": {
      "text/plain": [
       "0"
      ]
     },
     "execution_count": 13,
     "metadata": {},
     "output_type": "execute_result"
    }
   ],
   "source": [
    "# check for duplicates\n",
    "df.duplicated().sum()"
   ]
  },
  {
   "cell_type": "markdown",
   "metadata": {
    "id": "QlFBsxAr_Zct"
   },
   "source": [
    "Now let's get rid of the implicit duplicates in the `genre` column. For example, the name of the same genre can be spelled slightly differently. Such errors will also affect the result of the research."
   ]
  },
  {
   "cell_type": "markdown",
   "metadata": {
    "id": "eSjWwsOh_Zct",
    "tags": [
     "start_task"
    ]
   },
   "source": [
    "**Displaying a list of unique genre names**\n",
    "\n",
    "Let's display a list of unique genre names, sorted alphabetically. For this:\n",
    "1. extract the desired dataframe column;\n",
    "2. apply the sorting method to it;\n",
    "3. for the sorted column, call a method that will return unique values from the column."
   ]
  },
  {
   "cell_type": "code",
   "execution_count": 14,
   "metadata": {
    "deletable": false,
    "id": "JIUcqzZN_Zct"
   },
   "outputs": [
    {
     "data": {
      "text/plain": [
       "array(['acid', 'acoustic', 'action', 'adult', 'africa', 'afrikaans',\n",
       "       'alternative', 'alternativepunk', 'ambient', 'americana',\n",
       "       'animated', 'anime', 'arabesk', 'arabic', 'arena',\n",
       "       'argentinetango', 'art', 'audiobook', 'author', 'avantgarde',\n",
       "       'axé', 'baile', 'balkan', 'beats', 'bigroom', 'black', 'bluegrass',\n",
       "       'blues', 'bollywood', 'bossa', 'brazilian', 'breakbeat', 'breaks',\n",
       "       'broadway', 'cantautori', 'cantopop', 'canzone', 'caribbean',\n",
       "       'caucasian', 'celtic', 'chamber', 'chanson', 'children', 'chill',\n",
       "       'chinese', 'choral', 'christian', 'christmas', 'classical',\n",
       "       'classicmetal', 'club', 'colombian', 'comedy', 'conjazz',\n",
       "       'contemporary', 'country', 'cuban', 'dance', 'dancehall',\n",
       "       'dancepop', 'dark', 'death', 'deep', 'deutschrock', 'deutschspr',\n",
       "       'dirty', 'disco', 'dnb', 'documentary', 'downbeat', 'downtempo',\n",
       "       'drum', 'dub', 'dubstep', 'eastern', 'easy', 'electronic',\n",
       "       'electropop', 'emo', 'entehno', 'epicmetal', 'estrada', 'ethnic',\n",
       "       'eurofolk', 'european', 'experimental', 'extrememetal', 'fado',\n",
       "       'fairytail', 'film', 'fitness', 'flamenco', 'folk', 'folklore',\n",
       "       'folkmetal', 'folkrock', 'folktronica', 'forró', 'frankreich',\n",
       "       'französisch', 'french', 'funk', 'future', 'gangsta', 'garage',\n",
       "       'german', 'ghazal', 'gitarre', 'glitch', 'gospel', 'gothic',\n",
       "       'grime', 'grunge', 'gypsy', 'handsup', \"hard'n'heavy\", 'hardcore',\n",
       "       'hardstyle', 'hardtechno', 'hip', 'hip-hop', 'hiphop',\n",
       "       'historisch', 'holiday', 'hop', 'horror', 'house', 'hymn', 'idm',\n",
       "       'independent', 'indian', 'indie', 'indipop', 'industrial',\n",
       "       'inspirational', 'instrumental', 'international', 'irish', 'jam',\n",
       "       'japanese', 'jazz', 'jewish', 'jpop', 'jungle', 'k-pop',\n",
       "       'karadeniz', 'karaoke', 'kayokyoku', 'korean', 'laiko', 'latin',\n",
       "       'latino', 'leftfield', 'local', 'lounge', 'loungeelectronic',\n",
       "       'lovers', 'malaysian', 'mandopop', 'marschmusik', 'meditative',\n",
       "       'mediterranean', 'melodic', 'metal', 'metalcore', 'mexican',\n",
       "       'middle', 'minimal', 'miscellaneous', 'modern', 'mood', 'mpb',\n",
       "       'muslim', 'native', 'neoklassik', 'neue', 'new', 'newage',\n",
       "       'newwave', 'nu', 'nujazz', 'numetal', 'oceania', 'old', 'opera',\n",
       "       'orchestral', 'other', 'piano', 'podcasts', 'pop', 'popdance',\n",
       "       'popelectronic', 'popeurodance', 'poprussian', 'post',\n",
       "       'posthardcore', 'postrock', 'power', 'progmetal', 'progressive',\n",
       "       'psychedelic', 'punjabi', 'punk', 'quebecois', 'ragga', 'ram',\n",
       "       'rancheras', 'rap', 'rave', 'reggae', 'reggaeton', 'regional',\n",
       "       'relax', 'religious', 'retro', 'rhythm', 'rnb', 'rnr', 'rock',\n",
       "       'rockabilly', 'rockalternative', 'rockindie', 'rockother',\n",
       "       'romance', 'roots', 'ruspop', 'rusrap', 'rusrock', 'russian',\n",
       "       'salsa', 'samba', 'scenic', 'schlager', 'self', 'sertanejo',\n",
       "       'shanson', 'shoegazing', 'showtunes', 'singer', 'ska', 'skarock',\n",
       "       'slow', 'smooth', 'soft', 'soul', 'soulful', 'sound', 'soundtrack',\n",
       "       'southern', 'specialty', 'speech', 'spiritual', 'sport',\n",
       "       'stonerrock', 'surf', 'swing', 'synthpop', 'synthrock',\n",
       "       'sängerportrait', 'tango', 'tanzorchester', 'taraftar', 'tatar',\n",
       "       'tech', 'techno', 'teen', 'thrash', 'top', 'traditional',\n",
       "       'tradjazz', 'trance', 'tribal', 'trip', 'triphop', 'tropical',\n",
       "       'türk', 'türkçe', 'ukrrock', 'unknown', 'urban', 'uzbek',\n",
       "       'variété', 'vi', 'videogame', 'vocal', 'western', 'world',\n",
       "       'worldbeat', 'ïîï', 'электроника'], dtype=object)"
      ]
     },
     "execution_count": 14,
     "metadata": {},
     "output_type": "execute_result"
    }
   ],
   "source": [
    "# view unique genre names\n",
    "genres = df['genre']\n",
    "genres.sort_values().unique()"
   ]
  },
  {
   "cell_type": "markdown",
   "metadata": {
    "id": "qej-Qmuo_Zct",
    "tags": [
     "start_task"
    ]
   },
   "source": [
    "**Clear table from implicit duplicates**\n",
    "\n",
    "Let's go through the list and find implicit duplicates of music genre names. These may be misspelled titles or alternative titles in the same genre.\n",
    "\n",
    "Based on visual search results, the following implicit duplicates of the `hiphop` genre were found:\n",
    "* *hip*,\n",
    "* *hop*,\n",
    "* *hip-hop*.\n",
    "\n",
    "To clear them from the table, we use the `replace()` method with two arguments: a list of duplicate strings (including *hip*, *hop*, and *hip-hop*) and a string with the correct value. It is necessary to fix the `genre` column in the `df` table: replace each value from the list of duplicates with the correct one. Instead of `hip`, `hop` and `hip-hop` the table should have the value `hiphop`:"
   ]
  },
  {
   "cell_type": "code",
   "execution_count": 15,
   "metadata": {
    "deletable": false,
    "id": "ErNDkmns_Zct"
   },
   "outputs": [],
   "source": [
    "# eliminate implicit duplicates\n",
    "df = df.replace(to_replace=['hip', 'hop', 'hip-hop'], value='hiphop')"
   ]
  },
  {
   "cell_type": "markdown",
   "metadata": {
    "id": "zQKF16_RG15m",
    "tags": [
     "start_task"
    ]
   },
   "source": [
    "**Checking for no implicit duplicates in a table**\n",
    "\n",
    "Let's check that we have replaced the wrong names:\n",
    "\n",
    "* hip,\n",
    "* hop,\n",
    "* hip-hop.\n",
    "\n",
    "To do this, display a sorted list of unique values in the `genre` column:"
   ]
  },
  {
   "cell_type": "code",
   "execution_count": 16,
   "metadata": {
    "deletable": false,
    "id": "wvixALnFG15m"
   },
   "outputs": [
    {
     "data": {
      "text/plain": [
       "array(['acid', 'acoustic', 'action', 'adult', 'africa', 'afrikaans',\n",
       "       'alternative', 'alternativepunk', 'ambient', 'americana',\n",
       "       'animated', 'anime', 'arabesk', 'arabic', 'arena',\n",
       "       'argentinetango', 'art', 'audiobook', 'author', 'avantgarde',\n",
       "       'axé', 'baile', 'balkan', 'beats', 'bigroom', 'black', 'bluegrass',\n",
       "       'blues', 'bollywood', 'bossa', 'brazilian', 'breakbeat', 'breaks',\n",
       "       'broadway', 'cantautori', 'cantopop', 'canzone', 'caribbean',\n",
       "       'caucasian', 'celtic', 'chamber', 'chanson', 'children', 'chill',\n",
       "       'chinese', 'choral', 'christian', 'christmas', 'classical',\n",
       "       'classicmetal', 'club', 'colombian', 'comedy', 'conjazz',\n",
       "       'contemporary', 'country', 'cuban', 'dance', 'dancehall',\n",
       "       'dancepop', 'dark', 'death', 'deep', 'deutschrock', 'deutschspr',\n",
       "       'dirty', 'disco', 'dnb', 'documentary', 'downbeat', 'downtempo',\n",
       "       'drum', 'dub', 'dubstep', 'eastern', 'easy', 'electronic',\n",
       "       'electropop', 'emo', 'entehno', 'epicmetal', 'estrada', 'ethnic',\n",
       "       'eurofolk', 'european', 'experimental', 'extrememetal', 'fado',\n",
       "       'fairytail', 'film', 'fitness', 'flamenco', 'folk', 'folklore',\n",
       "       'folkmetal', 'folkrock', 'folktronica', 'forró', 'frankreich',\n",
       "       'französisch', 'french', 'funk', 'future', 'gangsta', 'garage',\n",
       "       'german', 'ghazal', 'gitarre', 'glitch', 'gospel', 'gothic',\n",
       "       'grime', 'grunge', 'gypsy', 'handsup', \"hard'n'heavy\", 'hardcore',\n",
       "       'hardstyle', 'hardtechno', 'hiphop', 'historisch', 'holiday',\n",
       "       'horror', 'house', 'hymn', 'idm', 'independent', 'indian', 'indie',\n",
       "       'indipop', 'industrial', 'inspirational', 'instrumental',\n",
       "       'international', 'irish', 'jam', 'japanese', 'jazz', 'jewish',\n",
       "       'jpop', 'jungle', 'k-pop', 'karadeniz', 'karaoke', 'kayokyoku',\n",
       "       'korean', 'laiko', 'latin', 'latino', 'leftfield', 'local',\n",
       "       'lounge', 'loungeelectronic', 'lovers', 'malaysian', 'mandopop',\n",
       "       'marschmusik', 'meditative', 'mediterranean', 'melodic', 'metal',\n",
       "       'metalcore', 'mexican', 'middle', 'minimal', 'miscellaneous',\n",
       "       'modern', 'mood', 'mpb', 'muslim', 'native', 'neoklassik', 'neue',\n",
       "       'new', 'newage', 'newwave', 'nu', 'nujazz', 'numetal', 'oceania',\n",
       "       'old', 'opera', 'orchestral', 'other', 'piano', 'podcasts', 'pop',\n",
       "       'popdance', 'popelectronic', 'popeurodance', 'poprussian', 'post',\n",
       "       'posthardcore', 'postrock', 'power', 'progmetal', 'progressive',\n",
       "       'psychedelic', 'punjabi', 'punk', 'quebecois', 'ragga', 'ram',\n",
       "       'rancheras', 'rap', 'rave', 'reggae', 'reggaeton', 'regional',\n",
       "       'relax', 'religious', 'retro', 'rhythm', 'rnb', 'rnr', 'rock',\n",
       "       'rockabilly', 'rockalternative', 'rockindie', 'rockother',\n",
       "       'romance', 'roots', 'ruspop', 'rusrap', 'rusrock', 'russian',\n",
       "       'salsa', 'samba', 'scenic', 'schlager', 'self', 'sertanejo',\n",
       "       'shanson', 'shoegazing', 'showtunes', 'singer', 'ska', 'skarock',\n",
       "       'slow', 'smooth', 'soft', 'soul', 'soulful', 'sound', 'soundtrack',\n",
       "       'southern', 'specialty', 'speech', 'spiritual', 'sport',\n",
       "       'stonerrock', 'surf', 'swing', 'synthpop', 'synthrock',\n",
       "       'sängerportrait', 'tango', 'tanzorchester', 'taraftar', 'tatar',\n",
       "       'tech', 'techno', 'teen', 'thrash', 'top', 'traditional',\n",
       "       'tradjazz', 'trance', 'tribal', 'trip', 'triphop', 'tropical',\n",
       "       'türk', 'türkçe', 'ukrrock', 'unknown', 'urban', 'uzbek',\n",
       "       'variété', 'vi', 'videogame', 'vocal', 'western', 'world',\n",
       "       'worldbeat', 'ïîï', 'электроника'], dtype=object)"
      ]
     },
     "execution_count": 16,
     "metadata": {},
     "output_type": "execute_result"
    }
   ],
   "source": [
    "# checking for implicit duplicates\n",
    "df['genre'].sort_values().unique()"
   ]
  },
  {
   "cell_type": "markdown",
   "metadata": {
    "id": "jz6a9-7HQUDd"
   },
   "source": [
    "**Conclusions**\n",
    "\n",
    "Data preprocessing found three problems in the data:\n",
    "\n",
    "- headline style violations,\n",
    "- missing values,\n",
    "- duplicates - explicit and implicit.\n",
    "\n",
    "We've fixed the headers to make the table easier to work with. Without duplicates, the research will become more accurate.\n",
    "\n",
    "Missing values have been replaced with `'unknown'`. It remains to be seen whether the gaps in the `genre` column will harm the research.\n",
    "\n",
    "Now we can move on to hypothesis testing."
   ]
  },
  {
   "cell_type": "markdown",
   "metadata": {
    "id": "WttZHXH0SqKk"
   },
   "source": [
    "## Testing hypotheses"
   ]
  },
  {
   "cell_type": "markdown",
   "metadata": {
    "id": "Im936VVi_Zcu"
   },
   "source": [
    "### Comparison of user behavior in two capitals"
   ]
  },
  {
   "cell_type": "markdown",
   "metadata": {
    "id": "nwt_MuaL_Zcu"
   },
   "source": [
    "The first hypothesis states that users listen to music differently in Moscow and St. Petersburg. Let's check this assumption using the data of three days of the week - Monday, Wednesday and Friday. For this:\n",
    "\n",
    "* Let's separate the users of Moscow and St. Petersburg.\n",
    "* Compare how many tracks each group of users listened to on Monday, Wednesday and Friday."
   ]
  },
  {
   "cell_type": "markdown",
   "metadata": {
    "id": "8Dw_YMmT_Zcu",
    "tags": [
     "start_task"
    ]
   },
   "source": [
    "**Assessment of activity in listening to music by residents of two cities**\n",
    "\n",
    "First, we will perform each of the calculations separately.\n",
    "\n",
    "Let's evaluate the activity of users in each city. Let's group the data by city and count the listening in each group.\n"
   ]
  },
  {
   "cell_type": "code",
   "execution_count": 17,
   "metadata": {
    "deletable": false,
    "id": "0_Qs96oh_Zcu"
   },
   "outputs": [
    {
     "data": {
      "text/plain": [
       "city\n",
       "Moscow              42741\n",
       "Saint-Petersburg    18512\n",
       "Name: user_id, dtype: int64"
      ]
     },
     "execution_count": 17,
     "metadata": {},
     "output_type": "execute_result"
    }
   ],
   "source": [
    "# Counting listening in each city\n",
    "df.groupby(by='city')['user_id'].count()"
   ]
  },
  {
   "cell_type": "markdown",
   "metadata": {
    "id": "dzli3w8o_Zcu",
    "tags": [
     "start_task"
    ]
   },
   "source": [
    "There are more listening in Moscow than in St. Petersburg. It does not follow from this that Moscow users listen to music more often. There are simply more users in Moscow.\n",
    "\n",
    "**Evaluation of user activity depending on the day of the week**\n",
    "\n",
    "Now let's group the data by day of the week and count the listening on Monday, Wednesday, and Friday. Let's take into account that the data contains information about listening only for these days."
   ]
  },
  {
   "cell_type": "code",
   "execution_count": 18,
   "metadata": {
    "deletable": false,
    "id": "uZMKjiJz_Zcu"
   },
   "outputs": [
    {
     "data": {
      "text/plain": [
       "day\n",
       "Friday       21840\n",
       "Monday       21354\n",
       "Wednesday    18059\n",
       "Name: user_id, dtype: int64"
      ]
     },
     "execution_count": 18,
     "metadata": {},
     "output_type": "execute_result"
    }
   ],
   "source": [
    "# listening count for each of the three days\n",
    "df.groupby(by='day')['user_id'].count()"
   ]
  },
  {
   "cell_type": "markdown",
   "metadata": {
    "id": "cC2tNrlL_Zcu"
   },
   "source": [
    "On average, users from the two cities are less active on Wednesdays. But the picture may change if we consider each city separately."
   ]
  },
  {
   "cell_type": "markdown",
   "metadata": {
    "id": "POzs8bGa_Zcu",
    "tags": [
     "start_task"
    ]
   },
   "source": [
    "**Group by city and day of the week**\n",
    "\n",
    "Earlier, we grouped the original table separately by the city of listening to Yandex Music and by day of the week.\n",
    "Let's combine these two calculations - grouping by city and days of the week - into one.\n",
    "\n",
    "To do this, we will create a `number_tracks()` function that will count the listening for a given day and city. It needs two parameters:\n",
    "* day of the week,\n",
    "* city name.\n",
    "\n",
    "In the function, we save the rows of the source table into a variable, which have the value:\n",
    "  * in the `day` column is equal to the `day` parameter,\n",
    "  * in the `city` column is equal to the `city` parameter.\n",
    "\n",
    "Then we count the values in the `user_id` column of the resulting table. The result will be saved to a new variable and returned from the function."
   ]
  },
  {
   "cell_type": "code",
   "execution_count": 19,
   "metadata": {
    "deletable": false,
    "id": "Nz3GdQB1_Zcu"
   },
   "outputs": [],
   "source": [
    "# <create number_tracks() function>\n",
    "# A function is declared with two parameters: day, city.\n",
    "# The track_list variable stores those rows of the df table for which\n",
    "# the value in the 'day' column is equal to the day parameter and at the same time the value\n",
    "# in the 'city' column is equal to the city parameter.\n",
    "# The track_list_count variable stores the number of values in the 'user_id' column,\n",
    "# calculated by the count() method for the track_list table.\n",
    "# The function returns a number - the value of track_list_count.\n",
    "\n",
    "# Function for counting listening for a specific city and day.\n",
    "# Using sequential filtering with logical indexing, it\n",
    "# first get the rows with the desired day from the source table,\n",
    "# then from the result it will filter the rows with the desired city,\n",
    "# the count() method will count the number of values in the user_id column.\n",
    "# This is the number the function will return as a result\n",
    "\n",
    "def number_tracks(day, city):\n",
    "    track_list = df[(df.day == day) & (df.city == city)]\n",
    "    track_list_count = track_list['user_id'].count()\n",
    "    return track_list_count"
   ]
  },
  {
   "cell_type": "markdown",
   "metadata": {
    "id": "ytf7xFrFJQ2r",
    "tags": [
     "start_task"
    ]
   },
   "source": [
    "**Retrieve listening data by city and day of the week**\n",
    "\n",
    "Let's call `number_tracks()` six times, changing the value of the parameters so that we get data for each city on each of the three days."
   ]
  },
  {
   "cell_type": "code",
   "execution_count": 20,
   "metadata": {
    "deletable": false,
    "id": "rJcRATNQ_Zcu"
   },
   "outputs": [
    {
     "data": {
      "text/plain": [
       "15740"
      ]
     },
     "execution_count": 20,
     "metadata": {},
     "output_type": "execute_result"
    }
   ],
   "source": [
    "# number of listening in Moscow on Mondays\n",
    "number_tracks('Monday', 'Moscow')"
   ]
  },
  {
   "cell_type": "code",
   "execution_count": 21,
   "metadata": {
    "deletable": false,
    "id": "hq_ncZ5T_Zcu"
   },
   "outputs": [
    {
     "data": {
      "text/plain": [
       "5614"
      ]
     },
     "execution_count": 21,
     "metadata": {},
     "output_type": "execute_result"
    }
   ],
   "source": [
    "# number of listening in St. Petersburg on Mondays\n",
    "number_tracks('Monday', 'Saint-Petersburg')"
   ]
  },
  {
   "cell_type": "code",
   "execution_count": 22,
   "metadata": {
    "deletable": false,
    "id": "_NTy2VPU_Zcu"
   },
   "outputs": [
    {
     "data": {
      "text/plain": [
       "11056"
      ]
     },
     "execution_count": 22,
     "metadata": {},
     "output_type": "execute_result"
    }
   ],
   "source": [
    "# number of listening in Moscow on Wednesdays\n",
    "number_tracks('Wednesday', 'Moscow')"
   ]
  },
  {
   "cell_type": "code",
   "execution_count": 23,
   "metadata": {
    "deletable": false,
    "id": "j2y3TAwo_Zcu"
   },
   "outputs": [
    {
     "data": {
      "text/plain": [
       "7003"
      ]
     },
     "execution_count": 23,
     "metadata": {},
     "output_type": "execute_result"
    }
   ],
   "source": [
    "# number of listening in St. Petersburg on Wednesdays\n",
    "number_tracks('Wednesday', 'Saint-Petersburg')"
   ]
  },
  {
   "cell_type": "code",
   "execution_count": 24,
   "metadata": {
    "deletable": false,
    "id": "vYDw5u_K_Zcu"
   },
   "outputs": [
    {
     "data": {
      "text/plain": [
       "15945"
      ]
     },
     "execution_count": 24,
     "metadata": {},
     "output_type": "execute_result"
    }
   ],
   "source": [
    "# number of listening in Moscow on Fridays\n",
    "number_tracks('Friday', 'Moscow')"
   ]
  },
  {
   "cell_type": "code",
   "execution_count": 25,
   "metadata": {
    "deletable": false,
    "id": "8_yzFtW3_Zcu"
   },
   "outputs": [
    {
     "data": {
      "text/plain": [
       "5895"
      ]
     },
     "execution_count": 25,
     "metadata": {},
     "output_type": "execute_result"
    }
   ],
   "source": [
    "# number of listening in St. Petersburg on Fridays\n",
    "number_tracks('Friday', 'Saint-Petersburg')"
   ]
  },
  {
   "cell_type": "markdown",
   "metadata": {
    "id": "7QXffbO-_Zcu",
    "tags": [
     "start_task"
    ]
   },
   "source": [
    "**Create a table with music listening data by city and day of the week**\n",
    "\n",
    "Let's create a table using the `pd.DataFrame` constructor, where\n",
    "* column names - `['city', 'monday', 'wednesday', 'friday']`;\n",
    "* data is the results we got above with the `number_tracks` function."
   ]
  },
  {
   "cell_type": "code",
   "execution_count": 26,
   "metadata": {
    "deletable": false,
    "id": "APAcLpOr_Zcu"
   },
   "outputs": [
    {
     "data": {
      "text/html": [
       "<div>\n",
       "<style scoped>\n",
       "    .dataframe tbody tr th:only-of-type {\n",
       "        vertical-align: middle;\n",
       "    }\n",
       "\n",
       "    .dataframe tbody tr th {\n",
       "        vertical-align: top;\n",
       "    }\n",
       "\n",
       "    .dataframe thead th {\n",
       "        text-align: right;\n",
       "    }\n",
       "</style>\n",
       "<table border=\"1\" class=\"dataframe\">\n",
       "  <thead>\n",
       "    <tr style=\"text-align: right;\">\n",
       "      <th></th>\n",
       "      <th>city</th>\n",
       "      <th>monday</th>\n",
       "      <th>wednesday</th>\n",
       "      <th>friday</th>\n",
       "    </tr>\n",
       "  </thead>\n",
       "  <tbody>\n",
       "    <tr>\n",
       "      <th>0</th>\n",
       "      <td>Moscow</td>\n",
       "      <td>15740</td>\n",
       "      <td>11056</td>\n",
       "      <td>15945</td>\n",
       "    </tr>\n",
       "    <tr>\n",
       "      <th>1</th>\n",
       "      <td>Saint_Petersburg</td>\n",
       "      <td>5614</td>\n",
       "      <td>7003</td>\n",
       "      <td>5895</td>\n",
       "    </tr>\n",
       "  </tbody>\n",
       "</table>\n",
       "</div>"
      ],
      "text/plain": [
       "               city  monday  wednesday  friday\n",
       "0            Moscow   15740      11056   15945\n",
       "1  Saint_Petersburg    5614       7003    5895"
      ]
     },
     "execution_count": 26,
     "metadata": {},
     "output_type": "execute_result"
    }
   ],
   "source": [
    "# table with results\n",
    "pd.DataFrame(data={'city': ['Moscow', 'Saint_Petersburg'], \n",
    "                   'monday':    [15740, 5614],\n",
    "                   'wednesday': [11056, 7003],\n",
    "                   'friday':    [15945, 5895]})"
   ]
  },
  {
   "cell_type": "markdown",
   "metadata": {
    "id": "-EgPIHYu_Zcu"
   },
   "source": [
    "**Conclusions**\n",
    "\n",
    "The data shows the difference in user behavior:\n",
    "\n",
    "- In Moscow, the peak of listening falls on Monday and Friday, and on Wednesday there is a noticeable decline.\n",
    "- In St. Petersburg, on the contrary, they listen to music more on Wednesdays. Activity on Monday and Friday here is almost equally inferior to Wednesday.\n",
    "\n",
    "This means that the data speaks in favor of the first hypothesis - users listen to music differently in Moscow and St. Petersburg depending on the day of the week."
   ]
  },
  {
   "cell_type": "markdown",
   "metadata": {
    "id": "atZAxtq4_Zcu"
   },
   "source": [
    "### Music at the beginning and end of the week"
   ]
  },
  {
   "cell_type": "markdown",
   "metadata": {
    "id": "eXrQqXFH_Zcu"
   },
   "source": [
    "According to the second hypothesis, on Monday morning certain genres predominate in Moscow, while others dominate in St. Petersburg. Similarly, Friday evenings are dominated by different genres, depending on the city."
   ]
  },
  {
   "cell_type": "markdown",
   "metadata": {
    "id": "S8UcW6Hw_Zcu",
    "tags": [
     "start_task"
    ]
   },
   "source": [
    "**Preparing data for analyzing the genre of music listened to depending on the day of the week**\n",
    "\n",
    "Let's save tables with data in two variables:\n",
    "* for Moscow - in `moscow_general`;\n",
    "* for St. Petersburg - in `spb_general`."
   ]
  },
  {
   "cell_type": "code",
   "execution_count": 27,
   "metadata": {
    "deletable": false,
    "id": "qeaFfM_P_Zcu"
   },
   "outputs": [],
   "source": [
    "# getting the moscow_general table from those rows of the df table,\n",
    "# for which the value in the 'city' column is 'Moscow'\n",
    "moscow_general = df[df['city'] == 'Moscow']"
   ]
  },
  {
   "cell_type": "code",
   "execution_count": 28,
   "metadata": {
    "deletable": false,
    "id": "ORaVRKto_Zcu"
   },
   "outputs": [],
   "source": [
    "# getting the spb_general table from those rows of the df table,\n",
    "# for which the value in the 'city' column is 'Saint-Petersburg'\n",
    "spb_general = df[df['city'] == 'Saint-Petersburg']"
   ]
  },
  {
   "cell_type": "markdown",
   "metadata": {
    "id": "MEJV-CX2_Zcu",
    "tags": [
     "start_task"
    ]
   },
   "source": [
    "**The function of analyzing the top 10 listening genres on a given day and time**\n",
    "\n",
    "Let's create a `genre_weekday()` function with four parameters:\n",
    "* table (dataframe) with data,\n",
    "* day of the week,\n",
    "* start timestamp in 'hh:mm' format,\n",
    "* last timestamp in 'hh:mm' format.\n",
    "\n",
    "The function should return information about the top 10 genres of those tracks that were listened to on the specified day, in the interval between two timestamps."
   ]
  },
  {
   "cell_type": "code",
   "execution_count": 29,
   "metadata": {
    "deletable": false,
    "id": "laJT9BYl_Zcu"
   },
   "outputs": [],
   "source": [
    "# Declaring the function genre_weekday() with parameters table, day, time1, time2.\n",
    "# This function returns information about the most popular genres on the specified day in\n",
    "# given time:\n",
    "# 1) the genre_df variable saves those rows of the transmitted dataframe table, for\n",
    "#    of which at the same time:\n",
    "#    - the value in the day column is equal to the value of the day argument\n",
    "#    - the value in the time column is greater than the value of the time1 argument\n",
    "#    - the value in the time column is less than the value of the time2 argument\n",
    "#    Use sequential filtering with boolean indexing.\n",
    "# 2) group dataframe genre_df by genre column, take one of its\n",
    "#    columns and use the count() method to count the number of entries for each\n",
    "#    of present genres, write the resulting Series to a variable\n",
    "#    genre_df_count\n",
    "# 3) sort genre_df_count in descending order of occurrence and save\n",
    "#    into the genre_df_sorted variable\n",
    "# 4) return a Series of the first 10 genre_df_sorted values, these will be the top 10\n",
    "#    popular genres (on the specified day, at the specified time)\n",
    "\n",
    "def genre_weekday(df, day, time1, time2):\n",
    "    # sequential filtering\n",
    "    # leave in genre_df only those df lines whose day is equal to day\n",
    "    genre_df = df[df['day'] == day] \n",
    "    # leave in genre_df only those genre_df lines that have a time less than time2\n",
    "    genre_df = genre_df[genre_df['time'] < time2] \n",
    "    # leave in genre_df only those genre_df lines that have a time greater than time1\n",
    "    genre_df = genre_df[genre_df['time'] > time1] \n",
    "    # group the filtered dataframe by a column with genre names, take the genre column and count the number of rows for each genre using the count() method\n",
    "    genre_df_grouped = genre_df.groupby(by='genre')['genre'].count() \n",
    "    # sort the result in descending order (so that the most popular genres are at the beginning of the Series)\n",
    "    genre_df_sorted = genre_df_grouped.sort_values(ascending=False) \n",
    "    # return a Series with the 10 most popular genres in the specified time period of the specified day\n",
    "    return genre_df_sorted[:10]"
   ]
  },
  {
   "cell_type": "markdown",
   "metadata": {
    "id": "la2s2_PF_Zcu",
    "tags": [
     "start_task"
    ]
   },
   "source": [
    "**Comparing top 10 genres of listened music for two cities on Monday and Friday**\n",
    "\n",
    "Let's compare the results of the `genre_weekday()` function for Moscow and St. Petersburg on Monday morning (from 7:00 to 11:00) and Friday evening (from 17:00 to 23:00):"
   ]
  },
  {
   "cell_type": "code",
   "execution_count": 30,
   "metadata": {
    "deletable": false,
    "id": "yz7itPUQ_Zcu"
   },
   "outputs": [
    {
     "data": {
      "text/plain": [
       "genre\n",
       "pop            781\n",
       "dance          549\n",
       "electronic     480\n",
       "rock           474\n",
       "hiphop         286\n",
       "ruspop         186\n",
       "world          181\n",
       "rusrap         175\n",
       "alternative    164\n",
       "unknown        161\n",
       "Name: genre, dtype: int64"
      ]
     },
     "execution_count": 30,
     "metadata": {},
     "output_type": "execute_result"
    }
   ],
   "source": [
    "# function call for Monday morning in Moscow (instead of df — moscow_general table)\n",
    "# time objects are strings and are compared as strings\n",
    "genre_weekday(moscow_general, 'Monday', '07:00', '11:00')"
   ]
  },
  {
   "cell_type": "code",
   "execution_count": 31,
   "metadata": {
    "deletable": false,
    "id": "kwUcHPdy_Zcu"
   },
   "outputs": [
    {
     "data": {
      "text/plain": [
       "genre\n",
       "pop            218\n",
       "dance          182\n",
       "rock           162\n",
       "electronic     147\n",
       "hiphop          80\n",
       "ruspop          64\n",
       "alternative     58\n",
       "rusrap          55\n",
       "jazz            44\n",
       "classical       40\n",
       "Name: genre, dtype: int64"
      ]
     },
     "execution_count": 31,
     "metadata": {},
     "output_type": "execute_result"
    }
   ],
   "source": [
    "# function call for Monday morning in St. Petersburg (instead of df — spb_general table)\n",
    "genre_weekday(spb_general, 'Monday', '07:00', '11:00')"
   ]
  },
  {
   "cell_type": "code",
   "execution_count": 32,
   "metadata": {
    "deletable": false,
    "id": "EzXVRE1o_Zcu"
   },
   "outputs": [
    {
     "data": {
      "text/plain": [
       "genre\n",
       "pop            713\n",
       "rock           517\n",
       "dance          495\n",
       "electronic     482\n",
       "hiphop         273\n",
       "world          208\n",
       "ruspop         170\n",
       "alternative    163\n",
       "classical      163\n",
       "rusrap         142\n",
       "Name: genre, dtype: int64"
      ]
     },
     "execution_count": 32,
     "metadata": {},
     "output_type": "execute_result"
    }
   ],
   "source": [
    "# function call for Monday evening in Moscow\n",
    "genre_weekday(moscow_general, 'Friday', '17:00', '23:00')"
   ]
  },
  {
   "cell_type": "code",
   "execution_count": 33,
   "metadata": {
    "deletable": false,
    "id": "JZaEKu5v_Zcu"
   },
   "outputs": [
    {
     "data": {
      "text/plain": [
       "genre\n",
       "pop            256\n",
       "electronic     216\n",
       "rock           216\n",
       "dance          210\n",
       "hiphop          97\n",
       "alternative     63\n",
       "jazz            61\n",
       "classical       60\n",
       "rusrap          59\n",
       "world           54\n",
       "Name: genre, dtype: int64"
      ]
     },
     "execution_count": 33,
     "metadata": {},
     "output_type": "execute_result"
    }
   ],
   "source": [
    "# function call for Monday evening in St. Petersburg\n",
    "genre_weekday(spb_general, 'Friday', '17:00', '23:00')"
   ]
  },
  {
   "cell_type": "markdown",
   "metadata": {
    "id": "wrCe4MNX_Zcu"
   },
   "source": [
    "**Conclusions**\n",
    "\n",
    "If we compare the top 10 genres on Monday morning, we can draw the following conclusions:\n",
    "\n",
    "1. In Moscow and St. Petersburg they listen to similar music. The only difference is that the Moscow rating includes the “world” genre, while the St. Petersburg rating includes jazz and classical.\n",
    "\n",
    "2. There were so many missing values in Moscow that the value `'unknown'` took tenth place among the most popular genres. This means that missing values occupy a significant proportion in the data and threaten the reliability of the research.\n",
    "\n",
    "Friday evening does not change this picture. Some genres rise a little higher, others go down, but overall the top 10 stays the same.\n",
    "\n",
    "Thus, the second hypothesis was only partially confirmed:\n",
    "* Users listen to similar music at the beginning and at the end of the week.\n",
    "* The difference between Moscow and St. Petersburg is not very pronounced. In Moscow, they listen to Russian popular music more often, in St. Petersburg - jazz.\n",
    "\n",
    "However, missing values in the data cast doubt on this result. There are so many gaps for Moscow that the top 10 ranking could look different if it were not for the lost genre data."
   ]
  },
  {
   "cell_type": "markdown",
   "metadata": {
    "id": "JolODAqr_Zcu"
   },
   "source": [
    "### Genre preferences in Moscow and St. Petersburg\n",
    "\n",
    "Hypothesis: St. Petersburg is the capital of rap, the music of this genre is listened to more often than in Moscow. And Moscow is a city of contrasts, which, nevertheless, is dominated by pop music."
   ]
  },
  {
   "cell_type": "markdown",
   "metadata": {
    "id": "DlegSvaT_Zcu",
    "tags": [
     "start_task"
    ]
   },
   "source": [
    "**Group data by listening genre for Moscow**\n",
    "\n",
    "Let's group the `moscow_general` table by genre and count the listening of tracks of each genre using the `count()` method. Then we sort the result in descending order and store it in the `moscow_genres` table."
   ]
  },
  {
   "cell_type": "code",
   "execution_count": 34,
   "metadata": {
    "deletable": false,
    "id": "r19lIPke_Zcu"
   },
   "outputs": [],
   "source": [
    "# in one line: grouping the moscow_general table by the 'genre' column,\n",
    "# counting the number of 'genre' values in this group using the count() method,\n",
    "# sort the resulting Series in descending order and save to moscow_genres\n",
    "moscow_genres = moscow_general.groupby(by='genre')['genre'].count().sort_values(ascending=False)"
   ]
  },
  {
   "cell_type": "markdown",
   "metadata": {
    "id": "6kMuomxTiIr8",
    "tags": [
     "start_task"
    ]
   },
   "source": [
    "**Displaying a sorted table by music genre for Moscow**\n",
    "\n",
    "Let's display the first ten rows of `moscow_genres`:"
   ]
  },
  {
   "cell_type": "code",
   "execution_count": 35,
   "metadata": {
    "deletable": false,
    "id": "WhCSooF8_Zcv"
   },
   "outputs": [
    {
     "data": {
      "text/plain": [
       "genre\n",
       "pop            5892\n",
       "dance          4435\n",
       "rock           3965\n",
       "electronic     3786\n",
       "hiphop         2096\n",
       "classical      1616\n",
       "world          1432\n",
       "alternative    1379\n",
       "ruspop         1372\n",
       "rusrap         1161\n",
       "Name: genre, dtype: int64"
      ]
     },
     "execution_count": 35,
     "metadata": {},
     "output_type": "execute_result"
    }
   ],
   "source": [
    "# view the first 10 rows of moscow_genres\n",
    "moscow_genres.head(10)"
   ]
  },
  {
   "cell_type": "markdown",
   "metadata": {
    "id": "cnPG2vnN_Zcv",
    "tags": [
     "start_task"
    ]
   },
   "source": [
    "**Group data by listening genre for St. Petersburg**\n",
    "\n",
    "\n",
    "Now let's repeat the same for St. Petersburg.\n",
    "\n",
    "Let's group the `spb_general` table by genre. Let's count listening to tracks of each genre. Sort the result in descending order and store it in the `spb_genres` table:"
   ]
  },
  {
   "cell_type": "code",
   "execution_count": 36,
   "metadata": {
    "deletable": false,
    "id": "gluLIpE7_Zcv"
   },
   "outputs": [],
   "source": [
    "# in one line: grouping the spb_general table by the 'genre' column,\n",
    "# counting the number of 'genre' values in this group using the count() method,\n",
    "# sort the resulting Series in descending order and save to spb_genres\n",
    "spb_genres = spb_general.groupby(by='genre')['genre'].count().sort_values(ascending=False)"
   ]
  },
  {
   "cell_type": "markdown",
   "metadata": {
    "id": "5Doha_ODgyQ8",
    "tags": [
     "start_task"
    ]
   },
   "source": [
    "**Displaying a sorted table by music genre for St. Petersburg**\n",
    "\n",
    "Let's display the first ten rows of `spb_genres`:"
   ]
  },
  {
   "cell_type": "code",
   "execution_count": 37,
   "metadata": {
    "deletable": false,
    "id": "uaGJHjVU_Zcv"
   },
   "outputs": [
    {
     "data": {
      "text/plain": [
       "genre\n",
       "pop            2431\n",
       "dance          1932\n",
       "rock           1879\n",
       "electronic     1736\n",
       "hiphop          960\n",
       "alternative     649\n",
       "classical       646\n",
       "rusrap          564\n",
       "ruspop          538\n",
       "world           515\n",
       "Name: genre, dtype: int64"
      ]
     },
     "execution_count": 37,
     "metadata": {},
     "output_type": "execute_result"
    }
   ],
   "source": [
    "# view the first 10 rows of spb_genres\n",
    "spb_genres.head(10)"
   ]
  },
  {
   "cell_type": "markdown",
   "metadata": {
    "id": "RY51YJYu_Zcv"
   },
   "source": [
    "**Conclusions**"
   ]
  },
  {
   "cell_type": "markdown",
   "metadata": {
    "id": "nVhnJEm__Zcv"
   },
   "source": [
    "The hypothesis was partially confirmed:\n",
    "* Pop music is the most popular genre in Moscow, as the hypothesis suggested. Moreover, in the top 10 genres there is a close genre - Russian popular music.\n",
    "* Contrary to expectations, rap is equally popular in Moscow and St. Petersburg."
   ]
  },
  {
   "cell_type": "markdown",
   "metadata": {
    "id": "ykKQ0N65_Zcv"
   },
   "source": [
    "## Results of the research"
   ]
  },
  {
   "cell_type": "markdown",
   "metadata": {
    "id": "tjUwbHb3_Zcv"
   },
   "source": [
    "We tested three hypotheses and found:\n",
    "\n",
    "1. The day of the week has a different effect on the activity of users in Moscow and St. Petersburg.\n",
    "\n",
    "The first hypothesis was fully confirmed.\n",
    "\n",
    "2. Musical preferences do not change much during the week - be it Moscow or St. Petersburg. Small differences are noticeable at the beginning of the week, on Mondays:\n",
    "* in Moscow they listen to music of the “world” genre,\n",
    "* in St. Petersburg - jazz and classical music.\n",
    "\n",
    "Thus, the second hypothesis was only partly confirmed. This result could have been different were it not for gaps in the data.\n",
    "\n",
    "3. The tastes of Moscow and St. Petersburg users have more in common than differences. Contrary to expectations, genre preferences in St. Petersburg resemble those in Moscow.\n",
    "\n",
    "The third hypothesis was not confirmed. If there are differences in preferences, they are invisible to the bulk of users.\n",
    "\n",
    "**In practice, researhing has to contain tests of statistical hypotheses.**\n",
    "From the data of one service, it is not always possible to draw a conclusion about all the inhabitants of the city.\n",
    "Tests of statistical hypotheses will show how reliable they are, based on the available data. But this question is beyond the scope of this research."
   ]
  }
 ],
 "metadata": {
  "ExecuteTimeLog": [
   {
    "duration": 401,
    "start_time": "2022-09-09T19:42:38.665Z"
   },
   {
    "duration": 219,
    "start_time": "2022-09-09T19:46:30.425Z"
   },
   {
    "duration": 16,
    "start_time": "2022-09-09T19:46:58.314Z"
   },
   {
    "duration": 46,
    "start_time": "2022-09-10T09:50:12.154Z"
   },
   {
    "duration": 378,
    "start_time": "2022-09-10T09:50:28.374Z"
   },
   {
    "duration": 221,
    "start_time": "2022-09-10T09:50:28.754Z"
   },
   {
    "duration": 21,
    "start_time": "2022-09-10T09:50:28.977Z"
   },
   {
    "duration": 28,
    "start_time": "2022-09-10T09:50:31.075Z"
   },
   {
    "duration": 3,
    "start_time": "2022-09-10T09:55:23.373Z"
   },
   {
    "duration": 4,
    "start_time": "2022-09-10T09:56:50.016Z"
   },
   {
    "duration": 28,
    "start_time": "2022-09-10T09:58:20.280Z"
   },
   {
    "duration": 2,
    "start_time": "2022-09-10T09:58:24.334Z"
   },
   {
    "duration": 7,
    "start_time": "2022-09-10T10:02:33.333Z"
   },
   {
    "duration": 8,
    "start_time": "2022-09-10T10:02:58.541Z"
   },
   {
    "duration": 32,
    "start_time": "2022-09-10T10:04:56.633Z"
   },
   {
    "duration": 23,
    "start_time": "2022-09-10T10:05:10.912Z"
   },
   {
    "duration": 31,
    "start_time": "2022-09-10T10:05:47.139Z"
   },
   {
    "duration": 2,
    "start_time": "2022-09-10T10:06:02.555Z"
   },
   {
    "duration": 195,
    "start_time": "2022-09-10T10:06:02.559Z"
   },
   {
    "duration": 11,
    "start_time": "2022-09-10T10:06:02.756Z"
   },
   {
    "duration": 47,
    "start_time": "2022-09-10T10:06:02.769Z"
   },
   {
    "duration": 2,
    "start_time": "2022-09-10T10:06:02.819Z"
   },
   {
    "duration": 23,
    "start_time": "2022-09-10T10:06:02.822Z"
   },
   {
    "duration": 29,
    "start_time": "2022-09-10T10:06:05.790Z"
   },
   {
    "duration": 4,
    "start_time": "2022-09-10T10:06:45.958Z"
   },
   {
    "duration": 3,
    "start_time": "2022-09-10T10:07:31.631Z"
   },
   {
    "duration": 5,
    "start_time": "2022-09-10T10:08:02.337Z"
   },
   {
    "duration": 30,
    "start_time": "2022-09-10T10:08:39.472Z"
   },
   {
    "duration": 24,
    "start_time": "2022-09-10T10:08:45.709Z"
   },
   {
    "duration": 33,
    "start_time": "2022-09-10T10:09:57.548Z"
   },
   {
    "duration": 3,
    "start_time": "2022-09-10T10:23:36.569Z"
   },
   {
    "duration": 17,
    "start_time": "2022-09-10T11:05:24.192Z"
   },
   {
    "duration": 24,
    "start_time": "2022-09-10T11:06:00.148Z"
   },
   {
    "duration": 63,
    "start_time": "2022-09-10T11:07:00.984Z"
   },
   {
    "duration": 55,
    "start_time": "2022-09-10T11:07:24.047Z"
   },
   {
    "duration": 59,
    "start_time": "2022-09-10T11:07:29.287Z"
   },
   {
    "duration": 2,
    "start_time": "2022-09-10T11:09:35.109Z"
   },
   {
    "duration": 63,
    "start_time": "2022-09-10T11:10:54.372Z"
   },
   {
    "duration": 86,
    "start_time": "2022-09-10T12:13:55.779Z"
   },
   {
    "duration": 69,
    "start_time": "2022-09-10T12:14:00.807Z"
   },
   {
    "duration": 95,
    "start_time": "2022-09-10T12:14:19.379Z"
   },
   {
    "duration": 76,
    "start_time": "2022-09-10T12:14:24.387Z"
   },
   {
    "duration": 68,
    "start_time": "2022-09-10T12:14:36.564Z"
   },
   {
    "duration": 71,
    "start_time": "2022-09-10T12:14:55.732Z"
   },
   {
    "duration": 67,
    "start_time": "2022-09-10T12:15:00.390Z"
   },
   {
    "duration": 3,
    "start_time": "2022-09-10T12:17:16.005Z"
   },
   {
    "duration": 39,
    "start_time": "2022-09-10T12:25:17.018Z"
   },
   {
    "duration": 47,
    "start_time": "2022-09-10T12:27:56.522Z"
   },
   {
    "duration": 60,
    "start_time": "2022-09-10T12:28:19.032Z"
   },
   {
    "duration": 84,
    "start_time": "2022-09-10T12:34:46.538Z"
   },
   {
    "duration": 39,
    "start_time": "2022-09-10T12:36:31.783Z"
   },
   {
    "duration": 3,
    "start_time": "2022-09-10T12:37:25.519Z"
   },
   {
    "duration": 179,
    "start_time": "2022-09-10T12:37:25.534Z"
   },
   {
    "duration": 11,
    "start_time": "2022-09-10T12:37:25.715Z"
   },
   {
    "duration": 57,
    "start_time": "2022-09-10T12:37:25.728Z"
   },
   {
    "duration": 3,
    "start_time": "2022-09-10T12:37:25.787Z"
   },
   {
    "duration": 9,
    "start_time": "2022-09-10T12:37:25.792Z"
   },
   {
    "duration": 8,
    "start_time": "2022-09-10T12:37:25.803Z"
   },
   {
    "duration": 14,
    "start_time": "2022-09-10T12:37:25.813Z"
   },
   {
    "duration": 59,
    "start_time": "2022-09-10T12:37:25.829Z"
   },
   {
    "duration": 18,
    "start_time": "2022-09-10T12:37:25.890Z"
   },
   {
    "duration": 46,
    "start_time": "2022-09-10T12:37:25.912Z"
   },
   {
    "duration": 100,
    "start_time": "2022-09-10T12:37:25.960Z"
   },
   {
    "duration": 68,
    "start_time": "2022-09-10T12:37:26.062Z"
   },
   {
    "duration": 95,
    "start_time": "2022-09-10T12:37:26.132Z"
   },
   {
    "duration": 69,
    "start_time": "2022-09-10T12:37:26.229Z"
   },
   {
    "duration": 150,
    "start_time": "2022-09-10T12:37:26.300Z"
   },
   {
    "duration": 38,
    "start_time": "2022-09-10T12:37:30.269Z"
   },
   {
    "duration": 3,
    "start_time": "2022-09-10T14:11:37.239Z"
   },
   {
    "duration": 180,
    "start_time": "2022-09-10T14:11:37.243Z"
   },
   {
    "duration": 10,
    "start_time": "2022-09-10T14:11:37.425Z"
   },
   {
    "duration": 35,
    "start_time": "2022-09-10T14:11:37.437Z"
   },
   {
    "duration": 4,
    "start_time": "2022-09-10T14:11:37.474Z"
   },
   {
    "duration": 11,
    "start_time": "2022-09-10T14:11:37.480Z"
   },
   {
    "duration": 14,
    "start_time": "2022-09-10T14:11:37.493Z"
   },
   {
    "duration": 7,
    "start_time": "2022-09-10T14:11:37.508Z"
   },
   {
    "duration": 41,
    "start_time": "2022-09-10T14:11:37.517Z"
   },
   {
    "duration": 16,
    "start_time": "2022-09-10T14:11:37.560Z"
   },
   {
    "duration": 23,
    "start_time": "2022-09-10T14:11:37.578Z"
   },
   {
    "duration": 70,
    "start_time": "2022-09-10T14:11:37.602Z"
   },
   {
    "duration": 57,
    "start_time": "2022-09-10T14:11:37.674Z"
   },
   {
    "duration": 61,
    "start_time": "2022-09-10T14:11:37.734Z"
   },
   {
    "duration": 51,
    "start_time": "2022-09-10T14:11:37.797Z"
   },
   {
    "duration": 64,
    "start_time": "2022-09-10T14:11:37.850Z"
   },
   {
    "duration": 57,
    "start_time": "2022-09-10T14:11:37.916Z"
   },
   {
    "duration": 12,
    "start_time": "2022-09-10T14:12:59.306Z"
   },
   {
    "duration": 4,
    "start_time": "2022-09-10T14:41:22.978Z"
   },
   {
    "duration": 32,
    "start_time": "2022-09-10T14:41:36.594Z"
   },
   {
    "duration": 13,
    "start_time": "2022-09-10T14:41:57.737Z"
   },
   {
    "duration": 45,
    "start_time": "2022-09-10T14:42:06.416Z"
   },
   {
    "duration": 13,
    "start_time": "2022-09-10T14:42:56.268Z"
   },
   {
    "duration": 12,
    "start_time": "2022-09-10T14:43:04.259Z"
   },
   {
    "duration": 33,
    "start_time": "2022-09-10T14:44:53.427Z"
   },
   {
    "duration": 29,
    "start_time": "2022-09-10T14:45:26.539Z"
   },
   {
    "duration": 27,
    "start_time": "2022-09-10T14:45:50.182Z"
   },
   {
    "duration": 16,
    "start_time": "2022-09-10T14:46:29.222Z"
   },
   {
    "duration": 36,
    "start_time": "2022-09-10T14:47:24.930Z"
   },
   {
    "duration": 39,
    "start_time": "2022-09-10T14:47:42.062Z"
   },
   {
    "duration": 37,
    "start_time": "2022-09-10T14:48:03.679Z"
   },
   {
    "duration": 32,
    "start_time": "2022-09-10T14:48:35.153Z"
   },
   {
    "duration": 12,
    "start_time": "2022-09-10T14:48:54.596Z"
   },
   {
    "duration": 4,
    "start_time": "2022-09-10T14:59:25.979Z"
   },
   {
    "duration": 4,
    "start_time": "2022-09-10T15:00:07.542Z"
   },
   {
    "duration": 4,
    "start_time": "2022-09-10T15:08:45.827Z"
   },
   {
    "duration": 24,
    "start_time": "2022-09-10T15:09:22.852Z"
   },
   {
    "duration": 25,
    "start_time": "2022-09-10T15:09:37.262Z"
   },
   {
    "duration": 26,
    "start_time": "2022-09-10T15:09:45.483Z"
   },
   {
    "duration": 27,
    "start_time": "2022-09-10T15:10:01.032Z"
   },
   {
    "duration": 27,
    "start_time": "2022-09-10T15:10:06.993Z"
   },
   {
    "duration": 24,
    "start_time": "2022-09-10T15:10:12.939Z"
   },
   {
    "duration": 23,
    "start_time": "2022-09-10T15:10:29.216Z"
   },
   {
    "duration": 38,
    "start_time": "2022-09-10T15:10:43.781Z"
   },
   {
    "duration": 17,
    "start_time": "2022-09-10T15:11:09.213Z"
   },
   {
    "duration": 5,
    "start_time": "2022-09-10T15:12:59.018Z"
   },
   {
    "duration": 40,
    "start_time": "2022-09-10T15:13:05.498Z"
   },
   {
    "duration": 23,
    "start_time": "2022-09-10T15:16:05.606Z"
   },
   {
    "duration": 3,
    "start_time": "2022-09-10T15:17:06.789Z"
   },
   {
    "duration": 2,
    "start_time": "2022-09-10T15:17:13.202Z"
   },
   {
    "duration": 171,
    "start_time": "2022-09-10T15:17:13.234Z"
   },
   {
    "duration": 12,
    "start_time": "2022-09-10T15:17:13.407Z"
   },
   {
    "duration": 40,
    "start_time": "2022-09-10T15:17:13.421Z"
   },
   {
    "duration": 3,
    "start_time": "2022-09-10T15:17:13.463Z"
   },
   {
    "duration": 8,
    "start_time": "2022-09-10T15:17:13.467Z"
   },
   {
    "duration": 7,
    "start_time": "2022-09-10T15:17:13.476Z"
   },
   {
    "duration": 8,
    "start_time": "2022-09-10T15:17:13.484Z"
   },
   {
    "duration": 30,
    "start_time": "2022-09-10T15:17:13.494Z"
   },
   {
    "duration": 36,
    "start_time": "2022-09-10T15:17:13.525Z"
   },
   {
    "duration": 24,
    "start_time": "2022-09-10T15:17:13.563Z"
   },
   {
    "duration": 75,
    "start_time": "2022-09-10T15:17:13.588Z"
   },
   {
    "duration": 58,
    "start_time": "2022-09-10T15:17:13.665Z"
   },
   {
    "duration": 66,
    "start_time": "2022-09-10T15:17:13.725Z"
   },
   {
    "duration": 41,
    "start_time": "2022-09-10T15:17:13.792Z"
   },
   {
    "duration": 77,
    "start_time": "2022-09-10T15:17:13.848Z"
   },
   {
    "duration": 56,
    "start_time": "2022-09-10T15:17:13.926Z"
   },
   {
    "duration": 12,
    "start_time": "2022-09-10T15:17:13.984Z"
   },
   {
    "duration": 12,
    "start_time": "2022-09-10T15:17:13.998Z"
   },
   {
    "duration": 4,
    "start_time": "2022-09-10T15:17:14.012Z"
   },
   {
    "duration": 16,
    "start_time": "2022-09-10T15:18:03.125Z"
   },
   {
    "duration": 21,
    "start_time": "2022-09-10T15:18:41.485Z"
   },
   {
    "duration": 15,
    "start_time": "2022-09-10T15:18:55.901Z"
   },
   {
    "duration": 14,
    "start_time": "2022-09-10T15:19:43.677Z"
   },
   {
    "duration": 14,
    "start_time": "2022-09-10T15:19:54.964Z"
   },
   {
    "duration": 16,
    "start_time": "2022-09-10T15:20:05.491Z"
   },
   {
    "duration": 16,
    "start_time": "2022-09-10T15:20:17.350Z"
   },
   {
    "duration": 6,
    "start_time": "2022-09-10T15:25:16.985Z"
   },
   {
    "duration": 8,
    "start_time": "2022-09-10T15:28:32.235Z"
   },
   {
    "duration": 8,
    "start_time": "2022-09-10T15:29:37.262Z"
   },
   {
    "duration": 6,
    "start_time": "2022-09-10T15:35:00.688Z"
   },
   {
    "duration": 6,
    "start_time": "2022-09-10T15:35:03.874Z"
   },
   {
    "duration": 7,
    "start_time": "2022-09-10T15:35:06.743Z"
   },
   {
    "duration": 11,
    "start_time": "2022-09-10T15:35:32.238Z"
   },
   {
    "duration": 13,
    "start_time": "2022-09-10T15:35:48.255Z"
   },
   {
    "duration": 11,
    "start_time": "2022-09-10T15:36:03.319Z"
   },
   {
    "duration": 11,
    "start_time": "2022-09-10T15:36:32.467Z"
   },
   {
    "duration": 68,
    "start_time": "2022-09-10T15:44:05.636Z"
   },
   {
    "duration": 7,
    "start_time": "2022-09-10T15:45:47.372Z"
   },
   {
    "duration": 14,
    "start_time": "2022-09-10T15:48:09.507Z"
   },
   {
    "duration": 12,
    "start_time": "2022-09-10T15:48:29.503Z"
   },
   {
    "duration": 3,
    "start_time": "2022-09-10T15:48:49.246Z"
   },
   {
    "duration": 208,
    "start_time": "2022-09-10T15:48:49.251Z"
   },
   {
    "duration": 11,
    "start_time": "2022-09-10T15:48:49.462Z"
   },
   {
    "duration": 42,
    "start_time": "2022-09-10T15:48:49.475Z"
   },
   {
    "duration": 2,
    "start_time": "2022-09-10T15:48:49.521Z"
   },
   {
    "duration": 11,
    "start_time": "2022-09-10T15:48:49.526Z"
   },
   {
    "duration": 4,
    "start_time": "2022-09-10T15:48:49.547Z"
   },
   {
    "duration": 8,
    "start_time": "2022-09-10T15:48:49.553Z"
   },
   {
    "duration": 29,
    "start_time": "2022-09-10T15:48:49.563Z"
   },
   {
    "duration": 55,
    "start_time": "2022-09-10T15:48:49.594Z"
   },
   {
    "duration": 28,
    "start_time": "2022-09-10T15:48:49.651Z"
   },
   {
    "duration": 88,
    "start_time": "2022-09-10T15:48:49.681Z"
   },
   {
    "duration": 77,
    "start_time": "2022-09-10T15:48:49.771Z"
   },
   {
    "duration": 66,
    "start_time": "2022-09-10T15:48:49.851Z"
   },
   {
    "duration": 61,
    "start_time": "2022-09-10T15:48:49.919Z"
   },
   {
    "duration": 108,
    "start_time": "2022-09-10T15:48:49.982Z"
   },
   {
    "duration": 41,
    "start_time": "2022-09-10T15:48:50.092Z"
   },
   {
    "duration": 13,
    "start_time": "2022-09-10T15:48:50.146Z"
   },
   {
    "duration": 16,
    "start_time": "2022-09-10T15:48:50.161Z"
   },
   {
    "duration": 3,
    "start_time": "2022-09-10T15:48:50.179Z"
   },
   {
    "duration": 25,
    "start_time": "2022-09-10T15:48:50.184Z"
   },
   {
    "duration": 36,
    "start_time": "2022-09-10T15:48:50.211Z"
   },
   {
    "duration": 17,
    "start_time": "2022-09-10T15:48:50.249Z"
   },
   {
    "duration": 15,
    "start_time": "2022-09-10T15:48:50.268Z"
   },
   {
    "duration": 18,
    "start_time": "2022-09-10T15:48:50.285Z"
   },
   {
    "duration": 50,
    "start_time": "2022-09-10T15:48:50.305Z"
   },
   {
    "duration": 9,
    "start_time": "2022-09-10T15:48:50.357Z"
   },
   {
    "duration": 15,
    "start_time": "2022-09-10T15:48:50.368Z"
   },
   {
    "duration": 9,
    "start_time": "2022-09-10T15:48:50.385Z"
   },
   {
    "duration": 9,
    "start_time": "2022-09-10T15:48:50.396Z"
   },
   {
    "duration": 56,
    "start_time": "2022-09-10T15:48:50.407Z"
   },
   {
    "duration": 12,
    "start_time": "2022-09-10T15:48:52.434Z"
   },
   {
    "duration": 21,
    "start_time": "2022-09-10T15:49:31.981Z"
   },
   {
    "duration": 15,
    "start_time": "2022-09-10T15:49:55.135Z"
   },
   {
    "duration": 24,
    "start_time": "2022-09-10T16:38:13.829Z"
   },
   {
    "duration": 38,
    "start_time": "2022-09-10T16:38:23.383Z"
   },
   {
    "duration": 13,
    "start_time": "2022-09-10T16:39:30.165Z"
   },
   {
    "duration": 10,
    "start_time": "2022-09-10T16:39:38.829Z"
   },
   {
    "duration": 4,
    "start_time": "2022-09-10T16:40:21.484Z"
   },
   {
    "duration": 2,
    "start_time": "2022-09-10T16:41:43.032Z"
   },
   {
    "duration": 212,
    "start_time": "2022-09-10T16:41:43.041Z"
   },
   {
    "duration": 11,
    "start_time": "2022-09-10T16:41:43.256Z"
   },
   {
    "duration": 32,
    "start_time": "2022-09-10T16:41:43.269Z"
   },
   {
    "duration": 3,
    "start_time": "2022-09-10T16:41:43.302Z"
   },
   {
    "duration": 9,
    "start_time": "2022-09-10T16:41:43.307Z"
   },
   {
    "duration": 8,
    "start_time": "2022-09-10T16:41:43.317Z"
   },
   {
    "duration": 22,
    "start_time": "2022-09-10T16:41:43.326Z"
   },
   {
    "duration": 31,
    "start_time": "2022-09-10T16:41:43.350Z"
   },
   {
    "duration": 22,
    "start_time": "2022-09-10T16:41:43.383Z"
   },
   {
    "duration": 44,
    "start_time": "2022-09-10T16:41:43.407Z"
   },
   {
    "duration": 66,
    "start_time": "2022-09-10T16:41:43.453Z"
   },
   {
    "duration": 80,
    "start_time": "2022-09-10T16:41:43.520Z"
   },
   {
    "duration": 68,
    "start_time": "2022-09-10T16:41:43.601Z"
   },
   {
    "duration": 39,
    "start_time": "2022-09-10T16:41:43.672Z"
   },
   {
    "duration": 87,
    "start_time": "2022-09-10T16:41:43.713Z"
   },
   {
    "duration": 54,
    "start_time": "2022-09-10T16:41:43.802Z"
   },
   {
    "duration": 16,
    "start_time": "2022-09-10T16:41:43.858Z"
   },
   {
    "duration": 15,
    "start_time": "2022-09-10T16:41:43.876Z"
   },
   {
    "duration": 8,
    "start_time": "2022-09-10T16:41:43.893Z"
   },
   {
    "duration": 48,
    "start_time": "2022-09-10T16:41:43.904Z"
   },
   {
    "duration": 16,
    "start_time": "2022-09-10T16:41:43.953Z"
   },
   {
    "duration": 30,
    "start_time": "2022-09-10T16:41:43.971Z"
   },
   {
    "duration": 21,
    "start_time": "2022-09-10T16:41:44.003Z"
   },
   {
    "duration": 38,
    "start_time": "2022-09-10T16:41:44.026Z"
   },
   {
    "duration": 14,
    "start_time": "2022-09-10T16:41:44.066Z"
   },
   {
    "duration": 9,
    "start_time": "2022-09-10T16:41:44.081Z"
   },
   {
    "duration": 16,
    "start_time": "2022-09-10T16:41:44.092Z"
   },
   {
    "duration": 42,
    "start_time": "2022-09-10T16:41:44.111Z"
   },
   {
    "duration": 7,
    "start_time": "2022-09-10T16:41:44.156Z"
   },
   {
    "duration": 36,
    "start_time": "2022-09-10T16:41:44.165Z"
   },
   {
    "duration": 14,
    "start_time": "2022-09-10T16:41:44.204Z"
   },
   {
    "duration": 34,
    "start_time": "2022-09-10T16:41:44.219Z"
   },
   {
    "duration": 12,
    "start_time": "2022-09-10T16:41:44.254Z"
   },
   {
    "duration": 10,
    "start_time": "2022-09-10T16:41:44.268Z"
   },
   {
    "duration": 4,
    "start_time": "2022-09-10T16:41:46.599Z"
   },
   {
    "duration": 36,
    "start_time": "2022-09-10T16:42:21.884Z"
   },
   {
    "duration": 10,
    "start_time": "2022-09-10T16:42:34.028Z"
   },
   {
    "duration": 5,
    "start_time": "2022-09-10T16:42:54.951Z"
   },
   {
    "duration": 34,
    "start_time": "2022-09-10T16:43:27.477Z"
   },
   {
    "duration": 23,
    "start_time": "2022-09-10T16:43:35.945Z"
   },
   {
    "duration": 43,
    "start_time": "2022-09-10T16:43:41.195Z"
   },
   {
    "duration": 30,
    "start_time": "2022-09-10T16:44:18.360Z"
   },
   {
    "duration": 12,
    "start_time": "2022-09-10T16:44:49.151Z"
   },
   {
    "duration": 8,
    "start_time": "2022-09-10T16:44:59.429Z"
   },
   {
    "duration": 28,
    "start_time": "2022-09-10T16:46:42.889Z"
   },
   {
    "duration": 25,
    "start_time": "2022-09-10T16:47:07.196Z"
   },
   {
    "duration": 32,
    "start_time": "2022-09-10T16:47:22.628Z"
   },
   {
    "duration": 23,
    "start_time": "2022-09-10T16:47:31.927Z"
   },
   {
    "duration": 10,
    "start_time": "2022-09-10T16:47:36.243Z"
   },
   {
    "duration": 11,
    "start_time": "2022-09-10T16:47:58.170Z"
   },
   {
    "duration": 13,
    "start_time": "2022-09-10T16:48:04.559Z"
   },
   {
    "duration": 5,
    "start_time": "2022-09-10T16:48:20.554Z"
   },
   {
    "duration": 12,
    "start_time": "2022-09-10T16:48:30.301Z"
   },
   {
    "duration": 10,
    "start_time": "2022-09-10T16:48:33.692Z"
   },
   {
    "duration": 5,
    "start_time": "2022-09-10T16:48:48.275Z"
   },
   {
    "duration": 5,
    "start_time": "2022-09-10T16:48:49.400Z"
   },
   {
    "duration": 2,
    "start_time": "2022-09-10T16:49:52.795Z"
   },
   {
    "duration": 174,
    "start_time": "2022-09-10T16:49:52.799Z"
   },
   {
    "duration": 11,
    "start_time": "2022-09-10T16:49:52.975Z"
   },
   {
    "duration": 50,
    "start_time": "2022-09-10T16:49:52.987Z"
   },
   {
    "duration": 12,
    "start_time": "2022-09-10T16:49:53.039Z"
   },
   {
    "duration": 10,
    "start_time": "2022-09-10T16:49:53.053Z"
   },
   {
    "duration": 8,
    "start_time": "2022-09-10T16:49:53.064Z"
   },
   {
    "duration": 17,
    "start_time": "2022-09-10T16:49:53.073Z"
   },
   {
    "duration": 48,
    "start_time": "2022-09-10T16:49:53.091Z"
   },
   {
    "duration": 20,
    "start_time": "2022-09-10T16:49:53.140Z"
   },
   {
    "duration": 30,
    "start_time": "2022-09-10T16:49:53.163Z"
   },
   {
    "duration": 66,
    "start_time": "2022-09-10T16:49:53.195Z"
   },
   {
    "duration": 59,
    "start_time": "2022-09-10T16:49:53.263Z"
   },
   {
    "duration": 79,
    "start_time": "2022-09-10T16:49:53.323Z"
   },
   {
    "duration": 55,
    "start_time": "2022-09-10T16:49:53.404Z"
   },
   {
    "duration": 95,
    "start_time": "2022-09-10T16:49:53.461Z"
   },
   {
    "duration": 38,
    "start_time": "2022-09-10T16:49:53.558Z"
   },
   {
    "duration": 12,
    "start_time": "2022-09-10T16:49:53.598Z"
   },
   {
    "duration": 37,
    "start_time": "2022-09-10T16:49:53.611Z"
   },
   {
    "duration": 3,
    "start_time": "2022-09-10T16:49:53.650Z"
   },
   {
    "duration": 29,
    "start_time": "2022-09-10T16:49:53.655Z"
   },
   {
    "duration": 16,
    "start_time": "2022-09-10T16:49:53.686Z"
   },
   {
    "duration": 17,
    "start_time": "2022-09-10T16:49:53.703Z"
   },
   {
    "duration": 25,
    "start_time": "2022-09-10T16:49:53.722Z"
   },
   {
    "duration": 17,
    "start_time": "2022-09-10T16:49:53.749Z"
   },
   {
    "duration": 17,
    "start_time": "2022-09-10T16:49:53.767Z"
   },
   {
    "duration": 10,
    "start_time": "2022-09-10T16:49:53.785Z"
   },
   {
    "duration": 20,
    "start_time": "2022-09-10T16:49:53.796Z"
   },
   {
    "duration": 27,
    "start_time": "2022-09-10T16:49:53.820Z"
   },
   {
    "duration": 6,
    "start_time": "2022-09-10T16:49:53.849Z"
   },
   {
    "duration": 36,
    "start_time": "2022-09-10T16:49:53.857Z"
   },
   {
    "duration": 15,
    "start_time": "2022-09-10T16:49:53.895Z"
   },
   {
    "duration": 37,
    "start_time": "2022-09-10T16:49:53.911Z"
   },
   {
    "duration": 13,
    "start_time": "2022-09-10T16:49:53.950Z"
   },
   {
    "duration": 18,
    "start_time": "2022-09-10T16:49:53.965Z"
   },
   {
    "duration": 4,
    "start_time": "2022-09-10T16:49:56.793Z"
   },
   {
    "duration": 12,
    "start_time": "2022-09-10T16:50:29.990Z"
   },
   {
    "duration": 4,
    "start_time": "2022-09-10T16:50:32.929Z"
   },
   {
    "duration": 3,
    "start_time": "2022-09-10T16:51:51.881Z"
   },
   {
    "duration": 174,
    "start_time": "2022-09-10T16:51:51.885Z"
   },
   {
    "duration": 10,
    "start_time": "2022-09-10T16:51:52.060Z"
   },
   {
    "duration": 34,
    "start_time": "2022-09-10T16:51:52.073Z"
   },
   {
    "duration": 11,
    "start_time": "2022-09-10T16:51:52.109Z"
   },
   {
    "duration": 16,
    "start_time": "2022-09-10T16:51:52.122Z"
   },
   {
    "duration": 15,
    "start_time": "2022-09-10T16:51:52.140Z"
   },
   {
    "duration": 7,
    "start_time": "2022-09-10T16:51:52.156Z"
   },
   {
    "duration": 28,
    "start_time": "2022-09-10T16:51:52.165Z"
   },
   {
    "duration": 26,
    "start_time": "2022-09-10T16:51:52.196Z"
   },
   {
    "duration": 26,
    "start_time": "2022-09-10T16:51:52.223Z"
   },
   {
    "duration": 63,
    "start_time": "2022-09-10T16:51:52.251Z"
   },
   {
    "duration": 90,
    "start_time": "2022-09-10T16:51:52.316Z"
   },
   {
    "duration": 55,
    "start_time": "2022-09-10T16:51:52.408Z"
   },
   {
    "duration": 40,
    "start_time": "2022-09-10T16:51:52.465Z"
   },
   {
    "duration": 85,
    "start_time": "2022-09-10T16:51:52.506Z"
   },
   {
    "duration": 39,
    "start_time": "2022-09-10T16:51:52.592Z"
   },
   {
    "duration": 22,
    "start_time": "2022-09-10T16:51:52.633Z"
   },
   {
    "duration": 10,
    "start_time": "2022-09-10T16:51:52.656Z"
   },
   {
    "duration": 3,
    "start_time": "2022-09-10T16:51:52.668Z"
   },
   {
    "duration": 21,
    "start_time": "2022-09-10T16:51:52.672Z"
   },
   {
    "duration": 13,
    "start_time": "2022-09-10T16:51:52.694Z"
   },
   {
    "duration": 47,
    "start_time": "2022-09-10T16:51:52.709Z"
   },
   {
    "duration": 14,
    "start_time": "2022-09-10T16:51:52.757Z"
   },
   {
    "duration": 17,
    "start_time": "2022-09-10T16:51:52.772Z"
   },
   {
    "duration": 12,
    "start_time": "2022-09-10T16:51:52.791Z"
   },
   {
    "duration": 14,
    "start_time": "2022-09-10T16:51:52.805Z"
   },
   {
    "duration": 31,
    "start_time": "2022-09-10T16:51:52.822Z"
   },
   {
    "duration": 11,
    "start_time": "2022-09-10T16:51:52.855Z"
   },
   {
    "duration": 5,
    "start_time": "2022-09-10T16:51:52.868Z"
   },
   {
    "duration": 24,
    "start_time": "2022-09-10T16:51:52.874Z"
   },
   {
    "duration": 10,
    "start_time": "2022-09-10T16:51:52.899Z"
   },
   {
    "duration": 43,
    "start_time": "2022-09-10T16:51:52.910Z"
   },
   {
    "duration": 12,
    "start_time": "2022-09-10T16:51:52.954Z"
   },
   {
    "duration": 11,
    "start_time": "2022-09-10T16:51:52.968Z"
   },
   {
    "duration": 5,
    "start_time": "2022-09-10T16:51:52.980Z"
   },
   {
    "duration": 7,
    "start_time": "2022-09-10T16:52:14.010Z"
   },
   {
    "duration": 5,
    "start_time": "2022-09-10T16:53:04.039Z"
   }
  ],
  "celltoolbar": "Необработанный формат ячейки",
  "colab": {
   "collapsed_sections": [
    "E0vqbgi9ay0H",
    "VUC88oWjTJw2"
   ],
   "name": "automatization_template_upd4.ipynb",
   "provenance": []
  },
  "kernelspec": {
   "display_name": "Python 3 (ipykernel)",
   "language": "python",
   "name": "python3"
  },
  "language_info": {
   "codemirror_mode": {
    "name": "ipython",
    "version": 3
   },
   "file_extension": ".py",
   "mimetype": "text/x-python",
   "name": "python",
   "nbconvert_exporter": "python",
   "pygments_lexer": "ipython3",
   "version": "3.9.12"
  },
  "toc": {
   "base_numbering": 1,
   "nav_menu": {
    "height": "215px",
    "width": "403px"
   },
   "number_sections": true,
   "sideBar": true,
   "skip_h1_title": true,
   "title_cell": "Table of Contents",
   "title_sidebar": "Contents",
   "toc_cell": false,
   "toc_position": {
    "height": "calc(100% - 180px)",
    "left": "10px",
    "top": "150px",
    "width": "285.825px"
   },
   "toc_section_display": true,
   "toc_window_display": false
  }
 },
 "nbformat": 4,
 "nbformat_minor": 1
}
